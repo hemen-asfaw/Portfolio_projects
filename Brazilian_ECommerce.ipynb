{
  "nbformat": 4,
  "nbformat_minor": 0,
  "metadata": {
    "colab": {
      "provenance": []
    },
    "kernelspec": {
      "name": "python3",
      "display_name": "Python 3"
    },
    "language_info": {
      "name": "python"
    }
  },
  "cells": [
    {
      "cell_type": "markdown",
      "source": [
        "# Brazilian E-commerce Analysis"
      ],
      "metadata": {
        "id": "tOFy8j9FB8Ye"
      }
    },
    {
      "cell_type": "markdown",
      "source": [
        "This Colab notebook contains SQL queries used to extract information for analyzing the Brazilian e-commerce market. It demonstrates proficiency in SQL, relational databases, and efficient data extraction. The query results were later used to build visualizations in both Tableau and Power BI."
      ],
      "metadata": {
        "id": "_5crGsoN-gr3"
      }
    },
    {
      "cell_type": "markdown",
      "source": [
        "## Project Context\n",
        "We analyzed a relational database containing nine tables, originally sourced from Kaggle, which provides detailed information on the Brazilian e-commerce market. The dataset covers 100,000 real and anonymized orders placed between 2016 and 2018 across multiple Olist stores in Brazilian marketplaces.\n",
        "\n",
        "The stakeholder for this project is a businessman interested in entering the Brazilian e-commerce market after hearing favorable reports about its growth. While he does not yet have a product line or specific location in mind, his goal is to gain an initial overview of the market landscape.\n",
        "\n",
        "In this project, we focus on key areas including sales performance analysis, customer segmentation and targeting, pricing strategies, and supply chain logistics. Our analysis is designed to give the stakeholder a clearer understanding of the opportunities within the Brazilian e-commerce sector, highlighting both rapidly growing markets and longer-term untapped potential."
      ],
      "metadata": {
        "id": "dPCHGQY__S9R"
      }
    },
    {
      "cell_type": "code",
      "execution_count": 1,
      "metadata": {
        "colab": {
          "base_uri": "https://localhost:8080/"
        },
        "id": "1vxlqz_b-dos",
        "outputId": "7957387c-6947-4c14-ed1a-13214f0e5995"
      },
      "outputs": [
        {
          "output_type": "stream",
          "name": "stdout",
          "text": [
            "Requirement already satisfied: ipython-sql in /usr/local/lib/python3.12/dist-packages (0.5.0)\n",
            "Requirement already satisfied: prettytable in /usr/local/lib/python3.12/dist-packages (from ipython-sql) (3.16.0)\n",
            "Requirement already satisfied: ipython in /usr/local/lib/python3.12/dist-packages (from ipython-sql) (7.34.0)\n",
            "Requirement already satisfied: sqlalchemy>=2.0 in /usr/local/lib/python3.12/dist-packages (from ipython-sql) (2.0.43)\n",
            "Requirement already satisfied: sqlparse in /usr/local/lib/python3.12/dist-packages (from ipython-sql) (0.5.3)\n",
            "Requirement already satisfied: six in /usr/local/lib/python3.12/dist-packages (from ipython-sql) (1.17.0)\n",
            "Requirement already satisfied: ipython-genutils in /usr/local/lib/python3.12/dist-packages (from ipython-sql) (0.2.0)\n",
            "Requirement already satisfied: greenlet>=1 in /usr/local/lib/python3.12/dist-packages (from sqlalchemy>=2.0->ipython-sql) (3.2.4)\n",
            "Requirement already satisfied: typing-extensions>=4.6.0 in /usr/local/lib/python3.12/dist-packages (from sqlalchemy>=2.0->ipython-sql) (4.15.0)\n",
            "Requirement already satisfied: setuptools>=18.5 in /usr/local/lib/python3.12/dist-packages (from ipython->ipython-sql) (75.2.0)\n",
            "Collecting jedi>=0.16 (from ipython->ipython-sql)\n",
            "  Downloading jedi-0.19.2-py2.py3-none-any.whl.metadata (22 kB)\n",
            "Requirement already satisfied: decorator in /usr/local/lib/python3.12/dist-packages (from ipython->ipython-sql) (4.4.2)\n",
            "Requirement already satisfied: pickleshare in /usr/local/lib/python3.12/dist-packages (from ipython->ipython-sql) (0.7.5)\n",
            "Requirement already satisfied: traitlets>=4.2 in /usr/local/lib/python3.12/dist-packages (from ipython->ipython-sql) (5.7.1)\n",
            "Requirement already satisfied: prompt-toolkit!=3.0.0,!=3.0.1,<3.1.0,>=2.0.0 in /usr/local/lib/python3.12/dist-packages (from ipython->ipython-sql) (3.0.52)\n",
            "Requirement already satisfied: pygments in /usr/local/lib/python3.12/dist-packages (from ipython->ipython-sql) (2.19.2)\n",
            "Requirement already satisfied: backcall in /usr/local/lib/python3.12/dist-packages (from ipython->ipython-sql) (0.2.0)\n",
            "Requirement already satisfied: matplotlib-inline in /usr/local/lib/python3.12/dist-packages (from ipython->ipython-sql) (0.1.7)\n",
            "Requirement already satisfied: pexpect>4.3 in /usr/local/lib/python3.12/dist-packages (from ipython->ipython-sql) (4.9.0)\n",
            "Requirement already satisfied: wcwidth in /usr/local/lib/python3.12/dist-packages (from prettytable->ipython-sql) (0.2.13)\n",
            "Requirement already satisfied: parso<0.9.0,>=0.8.4 in /usr/local/lib/python3.12/dist-packages (from jedi>=0.16->ipython->ipython-sql) (0.8.5)\n",
            "Requirement already satisfied: ptyprocess>=0.5 in /usr/local/lib/python3.12/dist-packages (from pexpect>4.3->ipython->ipython-sql) (0.7.0)\n",
            "Downloading jedi-0.19.2-py2.py3-none-any.whl (1.6 MB)\n",
            "\u001b[2K   \u001b[90m━━━━━━━━━━━━━━━━━━━━━━━━━━━━━━━━━━━━━━━━\u001b[0m \u001b[32m1.6/1.6 MB\u001b[0m \u001b[31m30.8 MB/s\u001b[0m eta \u001b[36m0:00:00\u001b[0m\n",
            "\u001b[?25hInstalling collected packages: jedi\n",
            "Successfully installed jedi-0.19.2\n"
          ]
        }
      ],
      "source": [
        "# Install ipython-sql extension\n",
        "!pip install ipython-sql\n",
        "\n",
        "# Load the extension\n",
        "%load_ext sql\n",
        "\n",
        "# Create an in-memory SQLite database\n",
        "%sql sqlite://"
      ]
    },
    {
      "cell_type": "code",
      "source": [
        "%%sql\n",
        "WITH RankedProducts AS (\n",
        "    SELECT\n",
        "        c.customer_state,\n",
        "        pt.product_category_name_english,\n",
        "        COUNT(o.order_id) AS number_of_orders,\n",
        "        ROW_NUMBER() OVER (PARTITION BY c.customer_state ORDER BY COUNT(o.order_id) DESC) AS product_rank\n",
        "    FROM olist_orders o\n",
        "    JOIN olist_customers c ON o.customer_id = c.customer_id\n",
        "    JOIN olist_order_items oi ON o.order_id = oi.order_id\n",
        "    JOIN olist_products p ON oi.product_id = p.product_id\n",
        "    LEFT JOIN product_category_name_translation pt ON p.product_category_name = pt.product_category_name\n",
        "    WHERE pt.product_category_name_english IS NOT NULL\n",
        "    GROUP BY c.customer_state, pt.product_category_name_english\n",
        ")\n",
        "SELECT\n",
        "    customer_state,\n",
        "    product_category_name_english,\n",
        "    number_of_orders\n",
        "FROM RankedProducts\n",
        "WHERE product_rank <= 5\n",
        "ORDER BY customer_state, product_rank;"
      ],
      "metadata": {
        "id": "udxPgXoEA01Z"
      },
      "execution_count": null,
      "outputs": []
    },
    {
      "cell_type": "code",
      "source": [
        "%%sql\n",
        "\n",
        "# where are the most popular products peforming worst?\n",
        "SELECT\n",
        "    c.customer_state,\n",
        "    pt.product_category_name_english,\n",
        "    COUNT(o.order_id) AS total_orders\n",
        "FROM olist_orders o\n",
        "JOIN olist_order_items oi ON o.order_id = oi.order_id\n",
        "JOIN olist_products p ON p.product_id = oi.product_id\n",
        "JOIN olist_customers c ON c.customer_id = o.customer_id\n",
        "LEFT JOIN product_category_name_translation pt ON p.product_category_name = pt.product_category_name\n",
        "WHERE pt.product_category_name_english IN (\n",
        "    'bed_bath_table',\n",
        "    'health_beauty',\n",
        "    'sports_leisure',\n",
        "    'furniture_decor',\n",
        "    'computers_accessories'\n",
        ")\n",
        "GROUP BY pt.product_category_name_english, c.customer_state\n",
        "ORDER BY pt.product_category_name_english, total_orders ASC;"
      ],
      "metadata": {
        "id": "cvT_EidwBFgl"
      },
      "execution_count": null,
      "outputs": []
    },
    {
      "cell_type": "code",
      "source": [
        "%%sql\n",
        "\n",
        "# What product categories perform relatively better in low-revenue regions?\n",
        "SELECT\n",
        "    c.customer_state,\n",
        "    pt.product_category_name_english,\n",
        "    COUNT(o.order_id) AS total_orders,\n",
        "    ROUND(SUM(oi.price), 2) AS total_revenue\n",
        "FROM\n",
        "    olist_orders o\n",
        "JOIN\n",
        "    olist_order_items oi ON o.order_id = oi.order_id\n",
        "JOIN\n",
        "    olist_products p ON oi.product_id = p.product_id\n",
        "LEFT JOIN\n",
        "    product_category_name_translation pt ON p.product_category_name = pt.product_category_name\n",
        "JOIN\n",
        "    olist_customers c ON o.customer_id = c.customer_id\n",
        "WHERE\n",
        "    c.customer_state IN ('AM', 'AP', 'AC', 'RR')\n",
        "GROUP BY\n",
        "    c.customer_state, pt.product_category_name_english\n",
        "ORDER BY\n",
        "    c.customer_state ASC, total_orders DESC;"
      ],
      "metadata": {
        "id": "iL2rON05BMpp"
      },
      "execution_count": null,
      "outputs": []
    },
    {
      "cell_type": "code",
      "source": [
        "%%sql\n",
        "-- The impact of price / implicit discount on both volume and revenue\n",
        "-- Scatterplot of sale_price and units_sold, and sales_price and total_revenue to determine relationship\n",
        "SELECT product_id,\n",
        "\tprice AS sale_price,\n",
        "\tCOUNT(*) AS units_sold,\n",
        "\tSUM(price) AS total_revenue\n",
        "FROM olist_order_items ooi\n",
        "JOIN olist_orders oo ON ooi.order_id = oo.order_id\n",
        "WHERE order_status = \"delivered\"\n",
        "GROUP BY 1, 2\n",
        "ORDER BY 1, 2;"
      ],
      "metadata": {
        "id": "Bs_gmqMbBytc"
      },
      "execution_count": null,
      "outputs": []
    },
    {
      "cell_type": "code",
      "source": [
        "%%sql\n",
        "-- Time-series of average price, volume, and revenue\n",
        "-- Line chart with three series of avg price, sales volume, and revenue over time entire period of time\n",
        "SELECT\n",
        "  SUBSTR(oo.order_purchase_timestamp, 1, 7) AS `year_month`,\n",
        "  ROUND(AVG(ooi.price), 2) AS average_price,\n",
        "  COUNT(*) AS sales_volume,\n",
        "  SUM(ooi.price) AS total_revenue\n",
        "FROM olist_order_items AS ooi\n",
        "JOIN olist_orders AS oo ON ooi.order_id = oo.order_id\n",
        "WHERE oo.order_status = 'delivered'\n",
        "GROUP BY SUBSTR(oo.order_purchase_timestamp, 1, 7)\n",
        "ORDER BY SUBSTR(oo.order_purchase_timestamp, 1, 7);"
      ],
      "metadata": {
        "id": "XWj058gzBwD7"
      },
      "execution_count": null,
      "outputs": []
    },
    {
      "cell_type": "code",
      "source": [
        "%%sql\n",
        "-- Category level pricing and demand tracking\n",
        "-- Use bar charts to compare the avg price, total revenue, and volume metrics\n",
        "SELECT product_category_name_english,\n",
        "\tROUND(AVG(price), 2) AS average_price,\n",
        "\tSUM(price) AS total_revenue,\n",
        "\tCOUNT(*) AS volume\n",
        "FROM olist_order_items ooi\n",
        "JOIN olist_orders oo ON ooi.order_id = oo.order_id\n",
        "JOIN olist_products op ON ooi.product_id = op.product_id\n",
        "JOIN product_category_name_translation pcnt ON op.product_category_name = pcnt.product_category_name\n",
        "GROUP BY 1\n",
        "ORDER BY average_price DESC;"
      ],
      "metadata": {
        "id": "EF5PJUjCBsyi"
      },
      "execution_count": null,
      "outputs": []
    },
    {
      "cell_type": "code",
      "source": [
        "%%sql\n",
        "SELECT\n",
        "  COUNT(*) AS repeat_customers\n",
        "FROM (\n",
        "  SELECT customer_id\n",
        "  FROM olist_orders\n",
        "  GROUP BY customer_id\n",
        "  HAVING COUNT(*) > 1\n",
        ") t;\n",
        "\n",
        "SELECT\n",
        "  COUNT(*)               AS total_orders,\n",
        "  COUNT(DISTINCT customer_unique_id) AS distinct_customers\n",
        "FROM olist_orders oo\n",
        "JOIN olist_customers oc ON oo.customer_id = oc.customer_id;"
      ],
      "metadata": {
        "id": "ftevmVATBqN9"
      },
      "execution_count": null,
      "outputs": []
    },
    {
      "cell_type": "code",
      "source": [
        "%%sql\n",
        "-- Pricing tiers and Profitability/Retention\n",
        "-- Side-by-side bar charts of avg first order value and repeat rate percentage for each tier\n",
        "WITH first_orders AS (\n",
        "\tSELECT customer_unique_id,\n",
        "\t\tMIN(order_purchase_timestamp) AS first_transaction\n",
        "\tFROM olist_orders oo\n",
        "\tJOIN olist_customers oc ON oo.customer_id = oc.customer_id\n",
        "\tWHERE order_status = 'delivered'\n",
        "\tGROUP BY customer_unique_id\n",
        "),\n",
        "first_order_ids AS (\n",
        "\tSELECT oc.customer_unique_id, order_id\n",
        "\tFROM olist_orders oo\n",
        "\tJOIN olist_customers oc ON oo.customer_id = oc.customer_id\n",
        "\tJOIN first_orders fo ON oc.customer_unique_id = fo.customer_unique_id\n",
        "\t\tAND oo.order_purchase_timestamp = fo.first_transaction\n",
        "\tWHERE order_status = 'delivered'\n",
        "),\n",
        "order_revenue AS (\n",
        "\tSELECT order_id, SUM(price) AS revenue\n",
        "\tFROM olist_order_items\n",
        "\tGROUP BY 1\n",
        "),\n",
        "customer_order_count AS (\n",
        "\tSELECT customer_unique_id, COUNT(DISTINCT order_id) AS order_count\n",
        "\tFROM olist_orders oo\n",
        "\tJOIN olist_customers oc ON oo.customer_id = oc.customer_id\n",
        "\tWHERE order_status = 'delivered'\n",
        "\tGROUP BY customer_unique_id\n",
        ")\n",
        "SELECT\n",
        "\tCASE\n",
        "\t\tWHEN `or`.revenue < 50 THEN 'Low-price (<50)'\n",
        "\t\tWHEN `or`.revenue < 100 THEN 'Mid-price (<100)'\n",
        "\t\tELSE 'High-price (>100)'\n",
        "\tEND AS price_tier,\n",
        "\tCOUNT(*) AS customers, ROUND(AVG(`or`.revenue), 2) AS avg_first_order_value,\n",
        "\tROUND(\n",
        "\t\tSUM(CASE WHEN coc.order_count > 1 THEN 1 ELSE 0 END)\n",
        "\t\t/ COUNT(*) * 100,\n",
        "\t2) AS repeat_rate_percentage\n",
        "FROM first_order_ids foi\n",
        "JOIN order_revenue `or` ON foi.order_id = `or`.order_id\n",
        "JOIN customer_order_count coc ON foi.customer_unique_id = coc.customer_unique_id\n",
        "GROUP BY price_tier\n",
        "ORDER BY price_tier;"
      ],
      "metadata": {
        "id": "PGxxkoEcBn1u"
      },
      "execution_count": null,
      "outputs": []
    },
    {
      "cell_type": "code",
      "source": [
        "%%sql\n",
        "# Customer Location\n",
        "\t# Number of Customers in Each Brazilian State\n",
        "SELECT customer_state AS State, COUNT(customer_unique_id) AS \"Number of Customers\"\n",
        "FROM olist_customers\n",
        "GROUP BY State\n",
        "ORDER BY COUNT(customer_unique_id) ASC;"
      ],
      "metadata": {
        "id": "AfuxNEI_BeKe"
      },
      "execution_count": null,
      "outputs": []
    },
    {
      "cell_type": "code",
      "source": [
        "%%sql\n",
        "# Customer Product Preferences\n",
        "\t# Most Popular Product in the Top 5 States\n",
        "WITH total_num_of_cust_orders AS (\n",
        "SELECT oc.customer_state AS State, COUNT(oc.customer_unique_id) AS \"Total Number of Customers Who Ordered\"\n",
        "FROM olist_customers AS oc\n",
        "WHERE (oc.customer_state = \"SP\" OR\n",
        "\t\toc.customer_state = \"RJ\" OR\n",
        "        oc.customer_state = \"MG\" OR\n",
        "        oc.customer_state = \"RS\" OR\n",
        "        oc.customer_state = \"PR\")\n",
        "GROUP BY State\n",
        "ORDER BY State ASC),\n",
        "ranked_products_by_state AS (\n",
        "SELECT oc.customer_state AS State, pc.product_category_name_english AS \"Product Category\",\n",
        "\tCOUNT(oc.customer_unique_id) AS \"Number of Customers Who Ordered\",\n",
        "\tROW_NUMBER() OVER (PARTITION BY oc.customer_state ORDER BY COUNT(DISTINCT oc.customer_unique_id) DESC) AS rn\n",
        "FROM olist_customers AS oc\n",
        "JOIN olist_orders AS o\n",
        "\tON oc.customer_id = o.customer_id\n",
        "JOIN olist_order_items AS oi\n",
        "\tON o.order_id = oi.order_id\n",
        "JOIN olist_products AS op\n",
        "\tON oi.product_id = op.product_id\n",
        "JOIN product_category_name_translation AS pc\n",
        "\tON op.product_category_name = pc.product_category_name\n",
        "GROUP BY State, pc.product_category_name_english\n",
        "ORDER BY State ASC, COUNT(oc.customer_unique_id) DESC)\n",
        "SELECT r.State, r.`Product Category`, r.`Number of Customers Who Ordered`,\n",
        "       t.`Total Number of Customers Who Ordered`,\n",
        "       100*((r.`Number of Customers Who Ordered`)/(t.`Total Number of Customers Who Ordered`)) AS \"Percentage of Total Orders\"\n",
        "FROM ranked_products_by_state AS r\n",
        "JOIN total_num_of_cust_orders AS t\n",
        "\tON r.State = t.State\n",
        "WHERE (r.State = \"SP\" OR r.State = \"RJ\" OR r.State = \"MG\" OR r.State = \"RS\" OR r.State = \"PR\") AND r.rn = 1\n",
        "#ORDER BY `Number of Customers Who Ordered` DESC;\n",
        "ORDER BY State ASC;"
      ],
      "metadata": {
        "id": "xHd0ylljBX0Q"
      },
      "execution_count": null,
      "outputs": []
    },
    {
      "cell_type": "code",
      "source": [
        "%%sql\n",
        "# Customer Satisfaction Rates for Each Product Category Based on Customer Reviews\n",
        "WITH ranked_reviewed_product_score AS (\n",
        "SELECT p.product_category_name_english AS Product, r.review_score AS Score,\n",
        "\tCOUNT(r.review_score) AS \"Number of Customers\",\n",
        "    ROW_NUMBER() OVER (PARTITION BY p.product_category_name_english ORDER BY COUNT(DISTINCT r.review_score) DESC) AS rn\n",
        "FROM product_category_name_translation AS p\n",
        "JOIN olist_products AS op\n",
        "\tON p.product_category_name = op.product_category_name\n",
        "JOIN olist_order_items AS oi\n",
        "\tON op.product_id = oi.product_id\n",
        "JOIN olist_order_reviews AS r\n",
        "\tON oi.order_id = r.order_id\n",
        "GROUP BY Product, Score\n",
        "ORDER BY Product ASC, COUNT(r.review_score) DESC),\n",
        "num_of_total_cust_review AS (\n",
        "SELECT pc.product_category_name_english AS \"Product Category\",\n",
        "\t   COUNT(r.review_id) AS \"Number of Customers Who Reviewed\"\n",
        "FROM olist_order_reviews AS r\n",
        "JOIN olist_orders AS o\n",
        "\tON r.order_id = o.order_id\n",
        "JOIN olist_order_items AS oi\n",
        "\tON o.order_id = oi.order_id\n",
        "JOIN olist_products AS op\n",
        "\tON oi.product_id = op.product_id\n",
        "JOIN product_category_name_translation AS pc\n",
        "\tON op.product_category_name = pc.product_category_name\n",
        "GROUP BY pc.product_category_name_english\n",
        "ORDER BY pc.product_category_name_english ASC)\n",
        "SELECT r.Product, r.Score,\n",
        "\tr.`Number of Customers` AS \"Number of Customers Who Gave Top Review Score\",\n",
        "    n.`Number of Customers Who Reviewed` AS \"Total Number of Customers Who Reviewed Product\",\n",
        "\t((r.`Number of Customers`)/(n.`Number of Customers Who Reviewed`))*100 AS \"Percentage of Customers that Gave the Top Review Score\"\n",
        "FROM ranked_reviewed_product_score AS r\n",
        "JOIN num_of_total_cust_review AS n\n",
        "\tON r.Product = n.`Product Category`\n",
        "WHERE r.rn = 1\n",
        "GROUP BY r.Score, r.Product, r.`Number of Customers`, n.`Number of Customers Who Reviewed`\n",
        "ORDER BY r.Score ASC, \"Percentage of Customers that Gave the Top Review Score\" DESC;\n"
      ],
      "metadata": {
        "id": "k8VNvh2kBUif"
      },
      "execution_count": null,
      "outputs": []
    }
  ]
}